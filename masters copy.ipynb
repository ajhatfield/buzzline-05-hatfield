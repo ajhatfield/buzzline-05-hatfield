{
 "cells": [
  {
   "cell_type": "code",
   "execution_count": 9,
   "metadata": {},
   "outputs": [],
   "source": [
    "import pandas as pd\n",
    "from textblob import TextBlob\n",
    "from sklearn.model_selection import train_test_split\n",
    "from sklearn.ensemble import RandomForestClassifier\n",
    "from sklearn.metrics import classification_report\n",
    "import joblib"
   ]
  },
  {
   "cell_type": "code",
   "execution_count": 10,
   "metadata": {},
   "outputs": [],
   "source": [
    "# Load the Excel file\n",
    "file_path = r\"Masters Data Set FINAL.xlsx\"  # Update with your file path\n",
    "df = pd.read_excel(file_path)"
   ]
  },
  {
   "cell_type": "code",
   "execution_count": 11,
   "metadata": {},
   "outputs": [],
   "source": [
    "# Define a function to analyze sentiment using TextBlob\n",
    "def analyze_sentiment(description):\n",
    "    # Check if description is a string and not empty\n",
    "    if isinstance(description, str) and description.strip() != \"\":\n",
    "        blob = TextBlob(description)\n",
    "        sentiment_score = blob.sentiment.polarity\n",
    "        # Sentiment classification: Positive, Negative, Neutral\n",
    "        if sentiment_score > 0:\n",
    "            sentiment_label = 'Positive'\n",
    "        elif sentiment_score < 0:\n",
    "            sentiment_label = 'Negative'\n",
    "        else:\n",
    "            sentiment_label = 'Neutral'\n",
    "        return sentiment_score, sentiment_label\n",
    "    return 0, 'Neutral'  # Default to Neutral if description is missing or invalid"
   ]
  },
  {
   "cell_type": "code",
   "execution_count": 12,
   "metadata": {},
   "outputs": [],
   "source": [
    "# Apply the sentiment analysis function to the 'Accident Description' column\n",
    "df['Sentiment_Score'], df['Sentiment_Label'] = zip(*df['Accident Description'].apply(analyze_sentiment))"
   ]
  },
  {
   "cell_type": "code",
   "execution_count": 13,
   "metadata": {},
   "outputs": [],
   "source": [
    "# Convert 'Litigation Flag' column (Y = litigated, N = not litigated) into binary values\n",
    "df['Litigated'] = df['Litigation Flag'].map({'Y': 1, 'N': 0})"
   ]
  },
  {
   "cell_type": "code",
   "execution_count": 15,
   "metadata": {},
   "outputs": [
    {
     "name": "stdout",
     "output_type": "stream",
     "text": [
      "              precision    recall  f1-score   support\n",
      "\n",
      "           0       0.95      1.00      0.97      6882\n",
      "           1       0.00      0.00      0.00       374\n",
      "\n",
      "    accuracy                           0.95      7256\n",
      "   macro avg       0.47      0.50      0.49      7256\n",
      "weighted avg       0.90      0.95      0.92      7256\n",
      "\n"
     ]
    }
   ],
   "source": [
    "# Drop rows where essential information is missing\n",
    "df = df.dropna(subset=['Litigated', 'Accident Description'])\n",
    "\n",
    "# Feature Engineering: Use Sentiment Score, Sentiment Label, and other relevant columns\n",
    "X = df[['Sentiment_Score']]  # You can add more features from the data here\n",
    "y = df['Litigated']  # The target variable (litigation flag converted to binary)\n",
    "\n",
    "# Split the dataset into training and test sets\n",
    "X_train, X_test, y_train, y_test = train_test_split(X, y, test_size=0.3, random_state=42)\n",
    "\n",
    "# Train a classification model (e.g., Random Forest)\n",
    "model = RandomForestClassifier(n_estimators=100, random_state=42)\n",
    "model.fit(X_train, y_train)\n",
    "\n",
    "# Make predictions on the test set\n",
    "y_pred = model.predict(X_test)\n",
    "\n",
    "# Evaluate the model\n",
    "print(classification_report(y_test, y_pred))\n",
    "\n",
    "# Optional: Save the trained model if needed\n",
    "joblib.dump(model, 'litigation_prediction_model.pkl')\n",
    "\n",
    "# Make predictions on the entire dataset (or new data) and add to a new column\n",
    "df['Predicted_Litigation_Flag'] = model.predict(X)\n",
    "\n",
    "# Save the updated DataFrame with the predicted litigation flag back to Excel\n",
    "output_file_path = \"accident_data_with_predictions.xlsx\"  # Specify your output file path\n",
    "df.to_excel(output_file_path, index=False)"
   ]
  }
 ],
 "metadata": {
  "kernelspec": {
   "display_name": ".venv",
   "language": "python",
   "name": "python3"
  },
  "language_info": {
   "codemirror_mode": {
    "name": "ipython",
    "version": 3
   },
   "file_extension": ".py",
   "mimetype": "text/x-python",
   "name": "python",
   "nbconvert_exporter": "python",
   "pygments_lexer": "ipython3",
   "version": "3.11.9"
  }
 },
 "nbformat": 4,
 "nbformat_minor": 2
}
